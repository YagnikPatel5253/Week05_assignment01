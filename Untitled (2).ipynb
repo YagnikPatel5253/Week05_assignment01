{
 "cells": [
  {
   "cell_type": "markdown",
   "id": "d474463c-b78b-4b27-974f-87c6ac446881",
   "metadata": {},
   "source": [
    "Q1. What is an Exception in python? Write the difference between Exceptions and syntax errors?"
   ]
  },
  {
   "cell_type": "raw",
   "id": "3664dec9-c79b-4929-b6c2-8a0610762f47",
   "metadata": {},
   "source": [
    "Exception in Python:\n",
    "An exception in Python is an event or occurrence that interrupts the normal flow of a program's execution. When an exceptional situation arises, such as an error or an unexpected condition, Python raises an exception. Exceptions are used to handle errors, allowing the program to gracefully respond to unexpected situations and prevent the application from crashing.\n",
    "\n",
    "In Python, exceptions are represented by classes, and they can be raised explicitly by the raise statement or raised implicitly by the interpreter when an error occurs. Exception handling in Python involves using try, except, else, and finally blocks to manage the flow of the program and handle exceptions appropriately.\n",
    "\n",
    "\n",
    "Difference between Exceptions and Syntax Errors:\n",
    "\n",
    "Nature of Error:\n",
    "\n",
    "Exception: Exceptions occur during the execution of a program. They represent runtime errors or unexpected conditions that are encountered while the program is running.\n",
    "Syntax Error: Syntax errors, on the other hand, occur during the parsing of the code. They are typically due to violations of the Python syntax rules and prevent the program from being successfully interpreted or compiled.\n",
    "Detection Time:\n",
    "\n",
    "Exception: Exceptions are detected at runtime, meaning they are only discovered when the affected code is executed.\n",
    "Syntax Error: Syntax errors are detected during the parsing or compilation phase, before the code is executed. If there are syntax errors, the interpreter/compiler halts and does not proceed to the execution phase.\n",
    "Handling Mechanism:\n",
    "\n",
    "Exception: Exceptions can be caught and handled using try, except, else, and finally blocks, allowing the program to respond to errors and continue executing or perform cleanup actions.\n",
    "Syntax Error: Syntax errors must be fixed in the code before the program can be successfully executed. They are typically resolved by correcting the syntax mistakes in the source code.\n",
    "Examples:\n",
    "\n",
    "Exception: Examples of exceptions include ZeroDivisionError, TypeError, and FileNotFoundError. These errors occur during the execution of the program based on the input or the runtime environment.\n",
    "Syntax Error: Examples of syntax errors include missing colons at the end of statements, mismatched parentheses, or invalid indentation. These errors are detected by the Python interpreter during the parsing phase."
   ]
  },
  {
   "cell_type": "markdown",
   "id": "1e98766b-84ff-43b7-b963-4119e3d86614",
   "metadata": {},
   "source": [
    "2. What happened when an exception is not handled? explain with an example according to jupyter notebook"
   ]
  },
  {
   "cell_type": "raw",
   "id": "9d144000-7800-46d1-9a5d-feda28a0d9d9",
   "metadata": {},
   "source": [
    "When an exception is not handled in a Python program, it leads to an unhandled exception, which can result in the program terminating abruptly. When an exception occurs and there is no surrounding code to catch and handle it, the default behavior is for the program to print an error message and a traceback to the console, indicating the location and type of the unhandled exception."
   ]
  },
  {
   "cell_type": "code",
   "execution_count": 1,
   "id": "6fd65eda-1eaa-40a5-a91e-44a4c73d546d",
   "metadata": {},
   "outputs": [
    {
     "ename": "ZeroDivisionError",
     "evalue": "division by zero",
     "output_type": "error",
     "traceback": [
      "\u001b[0;31m---------------------------------------------------------------------------\u001b[0m",
      "\u001b[0;31mZeroDivisionError\u001b[0m                         Traceback (most recent call last)",
      "Cell \u001b[0;32mIn[1], line 8\u001b[0m\n\u001b[1;32m      5\u001b[0m     \u001b[38;5;28;01mreturn\u001b[39;00m result\n\u001b[1;32m      7\u001b[0m \u001b[38;5;66;03m# This call will raise a ZeroDivisionError\u001b[39;00m\n\u001b[0;32m----> 8\u001b[0m result \u001b[38;5;241m=\u001b[39m \u001b[43mdivide_numbers\u001b[49m\u001b[43m(\u001b[49m\u001b[38;5;241;43m5\u001b[39;49m\u001b[43m,\u001b[49m\u001b[43m \u001b[49m\u001b[38;5;241;43m0\u001b[39;49m\u001b[43m)\u001b[49m\n",
      "Cell \u001b[0;32mIn[1], line 4\u001b[0m, in \u001b[0;36mdivide_numbers\u001b[0;34m(a, b)\u001b[0m\n\u001b[1;32m      3\u001b[0m \u001b[38;5;28;01mdef\u001b[39;00m \u001b[38;5;21mdivide_numbers\u001b[39m(a, b):\n\u001b[0;32m----> 4\u001b[0m     result \u001b[38;5;241m=\u001b[39m \u001b[43ma\u001b[49m\u001b[43m \u001b[49m\u001b[38;5;241;43m/\u001b[39;49m\u001b[43m \u001b[49m\u001b[43mb\u001b[49m\n\u001b[1;32m      5\u001b[0m     \u001b[38;5;28;01mreturn\u001b[39;00m result\n",
      "\u001b[0;31mZeroDivisionError\u001b[0m: division by zero"
     ]
    }
   ],
   "source": [
    "# Example of an unhandled exception\n",
    "\n",
    "def divide_numbers(a, b):\n",
    "    result = a / b\n",
    "    return result\n",
    "\n",
    "# This call will raise a ZeroDivisionError\n",
    "result = divide_numbers(5, 0)\n"
   ]
  },
  {
   "cell_type": "raw",
   "id": "598f7f08-1334-40ad-8867-056f8a02f1dd",
   "metadata": {},
   "source": [
    "In the traceback, you can see the type of the exception (ZeroDivisionError), the location where it occurred (the line in the function divide_numbers), and the call stack.\n",
    "\n",
    "If there were no surrounding code to catch and handle this exception, the notebook would stop execution at this point, and the subsequent cells may not be executed. To avoid such abrupt terminations and provide a graceful response to exceptions, it's essential to use try, except, else, and finally blocks for exception handling. This allows you to define how your program should behave in the presence of exceptions, preventing unexpected crashes."
   ]
  },
  {
   "cell_type": "markdown",
   "id": "041ac468-bb6b-4abf-8d48-87d624bc0edc",
   "metadata": {},
   "source": [
    "3. Which python statements are used to catch and handled exception? explain with an example according to jupyter notebook"
   ]
  },
  {
   "cell_type": "raw",
   "id": "cd0f4c57-0057-4e28-ba38-e3cf83fdbf1a",
   "metadata": {},
   "source": [
    "In Python, the try, except, else, and finally statements are used for catching and handling exceptions. These statements allow you to specify blocks of code that should be executed when an exception occurs and define how your program should respond to different types of exceptions."
   ]
  },
  {
   "cell_type": "code",
   "execution_count": 2,
   "id": "0c110117-7641-4c7c-b319-d603c3b86eb7",
   "metadata": {},
   "outputs": [
    {
     "name": "stdout",
     "output_type": "stream",
     "text": [
      "Error: division by zero\n",
      "This block always gets executed\n",
      "Result of division: 5.0\n",
      "This block always gets executed\n"
     ]
    }
   ],
   "source": [
    "# Example of exception handling using try, except, else, and finally\n",
    "\n",
    "def divide_numbers(a, b):\n",
    "    try:\n",
    "        result = a / b\n",
    "    except ZeroDivisionError as e:\n",
    "        print(f\"Error: {e}\")\n",
    "    else:\n",
    "        print(f\"Result of division: {result}\")\n",
    "    finally:\n",
    "        print(\"This block always gets executed\")\n",
    "\n",
    "# Example 1: Handling the exception\n",
    "divide_numbers(5, 0)  # This will raise a ZeroDivisionError\n",
    "\n",
    "# Example 2: No exception\n",
    "divide_numbers(10, 2)  # This will not raise an exception\n"
   ]
  },
  {
   "cell_type": "markdown",
   "id": "e64f241f-33cc-4b38-a478-c6fb39122f23",
   "metadata": {},
   "source": [
    "4. explain with an example according to jupyter notebook\n",
    ". try and else\n",
    ". finally\n",
    ". raise"
   ]
  },
  {
   "cell_type": "raw",
   "id": "6c12c21c-9207-4068-a12f-0ba9ddc8ef80",
   "metadata": {},
   "source": [
    "Example 1: try and else"
   ]
  },
  {
   "cell_type": "code",
   "execution_count": 3,
   "id": "ec113ab3-e7a4-433f-8fdd-b0bd072c1ccf",
   "metadata": {},
   "outputs": [
    {
     "name": "stdout",
     "output_type": "stream",
     "text": [
      "Error: division by zero\n",
      "Result of division: 5.0\n"
     ]
    }
   ],
   "source": [
    "# Example of try and else\n",
    "\n",
    "def divide_numbers(a, b):\n",
    "    try:\n",
    "        result = a / b\n",
    "    except ZeroDivisionError as e:\n",
    "        print(f\"Error: {e}\")\n",
    "    else:\n",
    "        print(f\"Result of division: {result}\")\n",
    "\n",
    "# Example 1: Handling the exception\n",
    "divide_numbers(5, 0)  # This will raise a ZeroDivisionError\n",
    "\n",
    "# Example 2: No exception\n",
    "divide_numbers(10, 2)  # This will not raise an exception\n"
   ]
  },
  {
   "cell_type": "raw",
   "id": "1b4a4fc7-25d8-4adf-a29f-d79c07175efa",
   "metadata": {},
   "source": [
    "In this example, the try block contains the division operation, and the else block contains the code that should run if no exception occurs. When the function is called with divide_numbers(5, 0), it will catch the ZeroDivisionError and print an error message. However, when called with divide_numbers(10, 2), the else block is executed, printing the result of the division."
   ]
  },
  {
   "cell_type": "raw",
   "id": "e05c4d53-a321-42cd-9757-c312aa7c44e1",
   "metadata": {},
   "source": [
    "Example 2: finally"
   ]
  },
  {
   "cell_type": "code",
   "execution_count": 4,
   "id": "0f45310c-f0ac-4940-9b33-ec6b7c5477a9",
   "metadata": {},
   "outputs": [
    {
     "name": "stdout",
     "output_type": "stream",
     "text": [
      "Error: [Errno 2] No such file or directory: 'non_existent_file.txt'\n",
      "Error: [Errno 2] No such file or directory: 'existing_file.txt'\n"
     ]
    }
   ],
   "source": [
    "# Example of finally\n",
    "\n",
    "def open_and_read_file(filename):\n",
    "    try:\n",
    "        file = open(filename, 'r')\n",
    "        content = file.read()\n",
    "        print(f\"File content: {content}\")\n",
    "    except FileNotFoundError as e:\n",
    "        print(f\"Error: {e}\")\n",
    "    finally:\n",
    "        if 'file' in locals() and not file.closed:\n",
    "            file.close()\n",
    "            print(\"File closed in the finally block\")\n",
    "\n",
    "# Example 1: File not found\n",
    "open_and_read_file(\"non_existent_file.txt\")\n",
    "\n",
    "# Example 2: File found\n",
    "open_and_read_file(\"existing_file.txt\")\n"
   ]
  },
  {
   "cell_type": "raw",
   "id": "6d14811a-bc2f-46dc-9806-562cf692d619",
   "metadata": {},
   "source": [
    "In this example, the try block attempts to open and read a file. The finally block ensures that the file is closed, whether an exception occurs or not. If the file is not found, it catches the FileNotFoundError and prints an error message. If the file is found, it prints the content of the file."
   ]
  },
  {
   "cell_type": "markdown",
   "id": "4177910f-6c06-4ba2-9358-8231cc3332e8",
   "metadata": {},
   "source": [
    "Example 3: raise"
   ]
  },
  {
   "cell_type": "code",
   "execution_count": 5,
   "id": "8ff17590-718d-4549-85c8-ee6668906392",
   "metadata": {},
   "outputs": [
    {
     "name": "stdout",
     "output_type": "stream",
     "text": [
      "Error: Number must be a positive integer\n"
     ]
    }
   ],
   "source": [
    "# Example of raise\n",
    "\n",
    "def check_positive_number(number):\n",
    "    if number <= 0:\n",
    "        raise ValueError(\"Number must be a positive integer\")\n",
    "\n",
    "try:\n",
    "    check_positive_number(-5)\n",
    "except ValueError as e:\n",
    "    print(f\"Error: {e}\")\n"
   ]
  },
  {
   "cell_type": "raw",
   "id": "c3efc628-9e60-4f51-a599-4b8b45279216",
   "metadata": {},
   "source": [
    "In this example, the check_positive_number function raises a ValueError if the input number is not positive. When calling the function with -5, it raises a ValueError, and the except block catches the exception, printing an error message."
   ]
  },
  {
   "cell_type": "markdown",
   "id": "daaac0e1-a26b-411a-9fed-2cc9ed1a2364",
   "metadata": {},
   "source": [
    "5. What are custom exception in py why do we need them give an example according to the jupyter notebook "
   ]
  },
  {
   "cell_type": "raw",
   "id": "b9c07a79-23a2-42bc-af28-15a4c4078027",
   "metadata": {},
   "source": [
    "Custom exceptions in Python are user-defined exception classes that extend the base Exception class or its subclasses. Creating custom exceptions allows developers to define application-specific error conditions and handle them in a structured way. By using custom exceptions, you can make your code more readable, maintainable, and expressive, especially when dealing with specific error scenarios."
   ]
  },
  {
   "cell_type": "code",
   "execution_count": 7,
   "id": "12125a5f-0199-4136-ad59-e43f15f173b0",
   "metadata": {},
   "outputs": [
    {
     "name": "stdout",
     "output_type": "stream",
     "text": [
      "WithdrawalError: Insufficient balance (1000) for withdrawal amount (1500)\n",
      "Withdrawal successful. Remaining balance: 200\n"
     ]
    }
   ],
   "source": [
    "# Custom exception example\n",
    "\n",
    "class WithdrawalError(Exception):\n",
    "    \"\"\"Custom exception for withdrawal errors.\"\"\"\n",
    "    def __init__(self, balance, amount):\n",
    "        super().__init__(f\"WithdrawalError: Insufficient balance ({balance}) for withdrawal amount ({amount})\")\n",
    "\n",
    "\n",
    "class BankAccount:\n",
    "    def __init__(self, balance):\n",
    "        self.balance = balance\n",
    "\n",
    "    def withdraw(self, amount):\n",
    "        if amount > self.balance:\n",
    "            raise WithdrawalError(self.balance, amount)\n",
    "        else:\n",
    "            self.balance -= amount\n",
    "            print(f\"Withdrawal successful. Remaining balance: {self.balance}\")\n",
    "\n",
    "# Example usage\n",
    "account = BankAccount(1000)\n",
    "\n",
    "try:\n",
    "    account.withdraw(1500)  # This will raise WithdrawalError\n",
    "except WithdrawalError as e:\n",
    "    print(e)\n",
    "\n",
    "try:\n",
    "    account.withdraw(800)  # This will succeed\n",
    "except WithdrawalError as e:\n",
    "    print(e)\n"
   ]
  },
  {
   "cell_type": "markdown",
   "id": "7d4355f4-089d-4ea8-8a7d-4c8366ac6e96",
   "metadata": {},
   "source": [
    "6. Create a custom exception class use this class to handled exception"
   ]
  },
  {
   "cell_type": "code",
   "execution_count": 8,
   "id": "0c2e5b5d-9da4-4a73-8554-f96830aa282b",
   "metadata": {},
   "outputs": [
    {
     "name": "stdout",
     "output_type": "stream",
     "text": [
      "Processing the positive number: 42\n",
      "NegativeValueError: Value cannot be negative (-10)\n"
     ]
    }
   ],
   "source": [
    "# Custom exception class\n",
    "class NegativeValueError(ValueError):\n",
    "    \"\"\"Custom exception for handling negative values.\"\"\"\n",
    "    def __init__(self, value):\n",
    "        super().__init__(f\"NegativeValueError: Value cannot be negative ({value})\")\n",
    "\n",
    "\n",
    "# Function using the custom exception\n",
    "def process_positive_number(value):\n",
    "    if value < 0:\n",
    "        raise NegativeValueError(value)\n",
    "    else:\n",
    "        print(f\"Processing the positive number: {value}\")\n",
    "\n",
    "\n",
    "# Example usage\n",
    "try:\n",
    "    process_positive_number(42)  # This will succeed\n",
    "except NegativeValueError as e:\n",
    "    print(e)\n",
    "\n",
    "try:\n",
    "    process_positive_number(-10)  # This will raise NegativeValueError\n",
    "except NegativeValueError as e:\n",
    "    print(e)\n"
   ]
  },
  {
   "cell_type": "code",
   "execution_count": null,
   "id": "77b8be84-52d7-4705-acd9-aa3526aa00ef",
   "metadata": {},
   "outputs": [],
   "source": []
  }
 ],
 "metadata": {
  "kernelspec": {
   "display_name": "Python 3 (ipykernel)",
   "language": "python",
   "name": "python3"
  },
  "language_info": {
   "codemirror_mode": {
    "name": "ipython",
    "version": 3
   },
   "file_extension": ".py",
   "mimetype": "text/x-python",
   "name": "python",
   "nbconvert_exporter": "python",
   "pygments_lexer": "ipython3",
   "version": "3.10.8"
  }
 },
 "nbformat": 4,
 "nbformat_minor": 5
}
